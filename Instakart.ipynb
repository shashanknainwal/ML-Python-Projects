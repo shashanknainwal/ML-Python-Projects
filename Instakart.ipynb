{
  "cells": [
    {
      "metadata": {
        "_uuid": "8f2839f25d086af736a60e9eeb907d3b93b6e0e5",
        "_cell_guid": "b1076dfc-b9ad-4769-8c92-a6c4dae69d19",
        "trusted": false,
        "collapsed": true
      },
      "cell_type": "code",
      "source": "# This Python 3 environment comes with many helpful analytics libraries installed\n# It is defined by the kaggle/python docker image: https://github.com/kaggle/docker-python\n# For example, here's several helpful packages to load in \n\nimport numpy as np # linear algebra\nimport pandas as pd # data processing, CSV file I/O (e.g. pd.read_csv)\n\n# Input data files are available in the \"../input/\" directory.\n# For example, running this (by clicking run or pressing Shift+Enter) will list the files in the input directory\n\nimport os\nprint(os.listdir(\"../input\"))\n\n# Any results you write to the current directory are saved as output.",
      "execution_count": null,
      "outputs": []
    },
    {
      "metadata": {
        "_uuid": "fcfcd6776a436fd35b5dfbc21efeb647308573ad",
        "_cell_guid": "90ba573f-3473-435d-b6dc-2cec169e574b",
        "collapsed": true,
        "trusted": false
      },
      "cell_type": "code",
      "source": "import numpy as np # linear algebra\nimport pandas as pd # data processing, CSV file I/O (e.g. pd.read_csv)\nimport matplotlib.pyplot as plt\nimport seaborn as sns\ncolor = sns.color_palette()\n\n%matplotlib inline\n\npd.options.mode.chained_assignment = None  # default='warn'",
      "execution_count": null,
      "outputs": []
    },
    {
      "metadata": {
        "_uuid": "1e263c16e85ccd5e90577140a9c1cc16499bd146",
        "_cell_guid": "d9d6e84e-e48d-4c96-8550-340469c2fe4a",
        "collapsed": true,
        "trusted": false
      },
      "cell_type": "code",
      "source": "order_products_train_df = pd.read_csv(\"../input/order_products__train.csv\")\norder_products_prior_df = pd.read_csv(\"../input/order_products__prior.csv\")\norders_df = pd.read_csv(\"../input/orders.csv\")\nproducts_df = pd.read_csv(\"../input/products.csv\")\naisles_df = pd.read_csv(\"../input/aisles.csv\")\ndepartments_df = pd.read_csv(\"../input/departments.csv\")",
      "execution_count": null,
      "outputs": []
    },
    {
      "metadata": {
        "_uuid": "97910cb7b7aaa81c5f17d2c51a96f5df7abfd0bd",
        "_cell_guid": "6f2436ee-1a16-40a6-baec-fec8a9ac3308",
        "trusted": false,
        "collapsed": true
      },
      "cell_type": "code",
      "source": "order_products_train_df.head()",
      "execution_count": null,
      "outputs": []
    },
    {
      "metadata": {
        "_uuid": "2fb96d92136ac2368cf8c1e98f152eaac2737f4e",
        "_cell_guid": "25cb13e9-ab97-413a-ba4b-abf675666bb0",
        "trusted": false,
        "collapsed": true
      },
      "cell_type": "code",
      "source": "order_products_prior_df.head()",
      "execution_count": null,
      "outputs": []
    },
    {
      "metadata": {
        "_uuid": "71b88e31bfff5c04dbb8ee0a17634d4ebb0551a7",
        "_cell_guid": "6d69ba50-502e-44dc-9b0f-d491a6987284",
        "trusted": false,
        "collapsed": true
      },
      "cell_type": "code",
      "source": "orders_df.head()",
      "execution_count": null,
      "outputs": []
    },
    {
      "metadata": {
        "_uuid": "c09c8b85fa9b702672b6212404cefa8e9ac36281",
        "_cell_guid": "55a92e21-f56d-4258-bfef-a1668b96242a",
        "trusted": false,
        "collapsed": true
      },
      "cell_type": "code",
      "source": "products_df .head()",
      "execution_count": null,
      "outputs": []
    },
    {
      "metadata": {
        "_uuid": "d629ff2d2480ee46fbb7e2d37f6b5fab8052498a",
        "_cell_guid": "79c7e3d0-c299-4dcb-8224-4455121ee9b0",
        "trusted": false,
        "collapsed": true
      },
      "cell_type": "code",
      "source": "aisles_df.head()",
      "execution_count": null,
      "outputs": []
    },
    {
      "metadata": {
        "_uuid": "871c22ad0693d1c504ebcf569cbfebccbde235f8",
        "_cell_guid": "3a5a1f8d-271b-447d-b26e-16040974d72a",
        "trusted": false,
        "collapsed": true
      },
      "cell_type": "code",
      "source": "departments_df",
      "execution_count": null,
      "outputs": []
    },
    {
      "metadata": {
        "scrolled": true,
        "_cell_guid": "2c7cdccc-df31-47ed-b8e9-345db1e5da9f",
        "_uuid": "b9b8f1a2a1e04f76056d337e3fdce61ee7f21244",
        "trusted": false,
        "collapsed": true
      },
      "cell_type": "code",
      "source": "count=orders_df['eval_set'].value_counts()\nplt.figure(figsize=(12,8))\nsns.barplot(count.index,count.values)\nplt.xlabel(\" Train/Test/Prior Dataset\")\nplt.ylabel(\"Frequency\")",
      "execution_count": null,
      "outputs": []
    },
    {
      "metadata": {
        "_uuid": "e9fef2f8775ff0df84b2cd363cec7cd66a264f21",
        "_cell_guid": "224c73c1-9a58-486d-80e2-4ef35ac32c76",
        "trusted": false,
        "collapsed": true
      },
      "cell_type": "code",
      "source": "count",
      "execution_count": null,
      "outputs": []
    },
    {
      "metadata": {
        "_uuid": "56d62737334bd83db3b45272ee7f86a032ea4fc9",
        "_cell_guid": "5cac41c1-91a6-42e7-8566-f47fc81c2e82",
        "collapsed": true,
        "trusted": false
      },
      "cell_type": "code",
      "source": "def unique_counts(x):\n    return len(np.unique(x))\n",
      "execution_count": null,
      "outputs": []
    },
    {
      "metadata": {
        "_uuid": "7f417639c3e0fa5f3a19bb70a0c769834e161fbe",
        "_cell_guid": "e924be86-7a08-4ecb-b46b-551e94e09574",
        "trusted": false,
        "collapsed": true
      },
      "cell_type": "code",
      "source": "unique_counts_gp=orders_df.groupby('eval_set')['user_id'].agg(unique_counts)\nunique_counts_gp",
      "execution_count": null,
      "outputs": []
    },
    {
      "metadata": {
        "_uuid": "0ab355409b66b966177a5acd068bf86f87db63e0",
        "_cell_guid": "4c2d80ae-c6a9-416e-839e-86f496350cb5",
        "trusted": false,
        "collapsed": true
      },
      "cell_type": "code",
      "source": "sns.barplot(unique_counts_gp.index,unique_counts_gp.values)",
      "execution_count": null,
      "outputs": []
    },
    {
      "metadata": {
        "_uuid": "f81cdc524d1d6b0680c716a3bfaa43c1d86b285f",
        "_cell_guid": "5d6b5179-a129-4e82-8153-826ba20f01ad",
        "trusted": false,
        "collapsed": true
      },
      "cell_type": "code",
      "source": "order_products_train_df.head()",
      "execution_count": null,
      "outputs": []
    },
    {
      "metadata": {
        "_uuid": "dfa9f938816f7561a473f83f832286a12274c406",
        "_cell_guid": "8fcc6520-21f4-4f68-b4eb-d6922ab2632f",
        "trusted": false,
        "collapsed": true
      },
      "cell_type": "code",
      "source": "count_reordered=order_products_train_df.groupby('product_id')['reordered'].agg(unique_counts)\nfirst_100_prod=count_reordered.head(100)\nfirst_100_prod",
      "execution_count": null,
      "outputs": []
    },
    {
      "metadata": {
        "_uuid": "f3882fb95d10c09e7f8369dd2d922d07af3b06c6",
        "_cell_guid": "e2583dae-3fef-40bd-9f30-e68358272791",
        "trusted": false,
        "collapsed": true
      },
      "cell_type": "code",
      "source": "plt.figure(figsize=(20,12))\nsns.barplot(first_100_prod.index,first_100_prod.values)",
      "execution_count": null,
      "outputs": []
    },
    {
      "metadata": {
        "_uuid": "6cd9635b840510f151b4e07b3e679dc74200ca61",
        "_cell_guid": "b62c0e11-217d-429f-bd8b-b45fdc3660d8",
        "collapsed": true,
        "trusted": false
      },
      "cell_type": "code",
      "source": "#Now let us validate the claim that 4 to 100 orders of a customer are given.",
      "execution_count": null,
      "outputs": []
    },
    {
      "metadata": {
        "_uuid": "32fae530d071ce26c3f2770b370ffd1423e0736b",
        "_cell_guid": "11a9964a-a5ff-4c2b-921f-430d9c66f604",
        "trusted": false,
        "collapsed": true
      },
      "cell_type": "code",
      "source": "orders_df.head(12)",
      "execution_count": null,
      "outputs": []
    },
    {
      "metadata": {
        "_uuid": "02c5e4c0479dc2fb67ff2486e25921f2fc57ef33",
        "_cell_guid": "8951f608-4b05-4e25-b80d-cdaca71b4859",
        "trusted": false,
        "collapsed": true
      },
      "cell_type": "code",
      "source": "number_of_orders=orders_df.groupby('user_id')['order_number'].count().reset_index().sort_values(by='order_number')\nnumber_of_orders",
      "execution_count": null,
      "outputs": []
    },
    {
      "metadata": {
        "_uuid": "33001658cc007efdad8efc098e703944fcbbf53d",
        "_cell_guid": "e7dcacd3-260d-42d8-81b8-d94b0089118d",
        "trusted": false,
        "collapsed": true
      },
      "cell_type": "code",
      "source": "no_of_orders=orders_df.groupby('user_id')['order_number'].agg(np.max).value_counts()\nno_of_orders",
      "execution_count": null,
      "outputs": []
    },
    {
      "metadata": {
        "_uuid": "f94870c44508121bf52d07fa2d60e18296712c3f",
        "_cell_guid": "6130a5b1-b2a2-40ec-a31d-30e9e8d99735",
        "trusted": false,
        "collapsed": true
      },
      "cell_type": "code",
      "source": "plt.figure(figsize=(20,12))\nsns.barplot(no_of_orders.index,no_of_orders.values)",
      "execution_count": null,
      "outputs": []
    },
    {
      "metadata": {
        "_uuid": "5e25cdcbe8a4a82afc0ef9a555241d39d25dab71",
        "_cell_guid": "baa7dba7-ab2d-4be0-9d5f-21f45a21ca92"
      },
      "cell_type": "markdown",
      "source": "Now let us see how the ordering habit changes with day of week."
    },
    {
      "metadata": {
        "_uuid": "adde8ea9d0fc5efa91e2176c190ca9276e650500",
        "_cell_guid": "f78fde66-e980-4cdb-adb5-f759584f9416",
        "trusted": false,
        "collapsed": true
      },
      "cell_type": "code",
      "source": "orders_df.head()",
      "execution_count": null,
      "outputs": []
    },
    {
      "metadata": {
        "_uuid": "9a75c4a757763333cfe508d659ce748ff250204f",
        "_cell_guid": "678c6b3a-7a12-412c-8013-2a055308bdb0",
        "trusted": false,
        "collapsed": true
      },
      "cell_type": "code",
      "source": "no_of_orders=orders_df.groupby(\"order_dow\")['order_number'].count()\nno_of_orders",
      "execution_count": null,
      "outputs": []
    },
    {
      "metadata": {
        "_uuid": "8d17e69652b5db6988bd84a415ef06941ac85db7",
        "_cell_guid": "a844e0ad-08a5-4b87-b3d0-77ef9488520d",
        "trusted": false,
        "collapsed": true
      },
      "cell_type": "code",
      "source": "plt.figure(figsize=(12,8))\nsns.barplot(no_of_orders.index,no_of_orders.values)",
      "execution_count": null,
      "outputs": []
    },
    {
      "metadata": {
        "_uuid": "f94da630d515f552ef7fff3cfe753dd89139b12c",
        "_cell_guid": "514e0188-034a-489b-96ca-c08a49edba66",
        "collapsed": true,
        "trusted": false
      },
      "cell_type": "code",
      "source": "# Number of orders by hours",
      "execution_count": null,
      "outputs": []
    },
    {
      "metadata": {
        "_uuid": "f073bef9c7fc84fcf513062ea726c5a0c6b69f8e",
        "_cell_guid": "7270eb6a-274d-4aac-aec4-1bb2b28e2b10",
        "trusted": false,
        "collapsed": true
      },
      "cell_type": "code",
      "source": "no_of_orders_hour=orders_df.groupby(\"order_hour_of_day\")['order_number'].count()\nno_of_orders_hour",
      "execution_count": null,
      "outputs": []
    },
    {
      "metadata": {
        "_uuid": "8ed7ea5d10059a4899bc6e4d2a73fac4e5cf38b6",
        "_cell_guid": "83ad6618-1b15-497b-8af5-21be92a190ff",
        "trusted": false,
        "collapsed": true
      },
      "cell_type": "code",
      "source": "plt.figure(figsize=(12,8))\nsns.barplot(no_of_orders_hour.index,no_of_orders_hour.values)",
      "execution_count": null,
      "outputs": []
    },
    {
      "metadata": {
        "_uuid": "52669259229793c60e3d04cdd4ddce74c1998412",
        "_cell_guid": "0e23d9c8-f28b-4cab-b4cc-f60a021fbc7d",
        "collapsed": true,
        "trusted": false
      },
      "cell_type": "code",
      "source": "#so majority of the orders are made during day time. Now let us combine the day of week and hour of day to see the distribution.",
      "execution_count": null,
      "outputs": []
    },
    {
      "metadata": {
        "scrolled": true,
        "_cell_guid": "069a6023-2928-4872-b660-1e53b05b4bc7",
        "_uuid": "cbc1713f3a192f95d5e5f73befeb73b6b28f7587",
        "trusted": false,
        "collapsed": true
      },
      "cell_type": "code",
      "source": "no_of_orders_dow_hour=orders_df.groupby([\"order_dow\",'order_hour_of_day'])['order_number'].count().reset_index()\nno_of_orders_dow_hour.pivot('order_dow', 'order_hour_of_day', 'order_number')\n",
      "execution_count": null,
      "outputs": []
    },
    {
      "metadata": {
        "_uuid": "d38342736d206a5acc9fa7ace9e197dc641bc119",
        "_cell_guid": "6e464d6f-56a0-4da3-a339-6a1d68acb4f0",
        "trusted": false,
        "collapsed": true
      },
      "cell_type": "code",
      "source": "sns.heatmap(no_of_orders_dow_hour)\nplt.title(\"Frequency of Day of week Vs Hour of day\")\nplt.show()",
      "execution_count": null,
      "outputs": []
    },
    {
      "metadata": {
        "_uuid": "306663affe071283b6b8dc7591ffed2bf00b8ea5",
        "_cell_guid": "fc4d7ca3-b5c7-4bb4-ab76-5479bc2f8a92",
        "trusted": false,
        "collapsed": true
      },
      "cell_type": "code",
      "source": "orders_df.groupby(\"order_hour_of_day\")['order_number'].agg('sum').reset_index()",
      "execution_count": null,
      "outputs": []
    },
    {
      "metadata": {
        "_uuid": "4d9d95cb79654e7def3bdc3c8c647ff22452a804",
        "_cell_guid": "ab354b4a-9461-4295-b1ec-03591f236c6e",
        "trusted": false,
        "collapsed": true
      },
      "cell_type": "code",
      "source": "orders_df.groupby(\"order_hour_of_day\")['order_number'].agg('count').reset_index()",
      "execution_count": null,
      "outputs": []
    },
    {
      "metadata": {
        "_uuid": "e39cae743a538d7ff1ffb85e19b82067d6ed0778",
        "_cell_guid": "26673447-262c-46ba-9c92-4772bee355f8",
        "collapsed": true,
        "trusted": false
      },
      "cell_type": "code",
      "source": "#Frequency distribution by days since prior order\n#Looks like customers order once in every week (check the peak at 7 days) or once in a month (peak at 30 days). We could also see smaller peaks at 14, 21 and 28 days (weekly intervals).\n\n#Since our objective is to figure out the re-orders, let us check out the re-order percentage in prior set and train set.",
      "execution_count": null,
      "outputs": []
    },
    {
      "metadata": {
        "_uuid": "4aa3cb2300383c4b1152d1483cdaecefdd37341f",
        "_cell_guid": "8a1ba74a-6630-4c6d-88b0-a0ed4af0e465",
        "trusted": false,
        "collapsed": true
      },
      "cell_type": "code",
      "source": "sns.countplot(x='days_since_prior_order',data=orders_df)",
      "execution_count": null,
      "outputs": []
    },
    {
      "metadata": {
        "_uuid": "b8280f9bde90537841c583482b2da73b9e478076",
        "_cell_guid": "2892acfe-4099-418b-b45b-df8aa37b93a6",
        "collapsed": true,
        "trusted": false
      },
      "cell_type": "code",
      "source": "#Since our objective is to figure out the re-orders, let us check out the re-order percentage in prior set and train set.",
      "execution_count": null,
      "outputs": []
    },
    {
      "metadata": {
        "_uuid": "4d6a72a35f9374bd78343718c881ee96d97cf78f",
        "_cell_guid": "17fa5efc-ea7b-4faa-9d3e-8bb6190916a1",
        "trusted": false,
        "collapsed": true
      },
      "cell_type": "code",
      "source": "order_products_train_df.head()",
      "execution_count": null,
      "outputs": []
    },
    {
      "metadata": {
        "_uuid": "54d4a2c4e2a8af3360dba1166a7424580aeb6413",
        "_cell_guid": "ab0e7b40-6c5c-4751-af6b-c6c48d89840b",
        "trusted": false,
        "collapsed": true
      },
      "cell_type": "code",
      "source": "# Reordered % in train set\n# 59% customers in training set reordered\nlen(order_products_train_df[order_products_train_df['reordered']==1])/len(order_products_train_df)",
      "execution_count": null,
      "outputs": []
    },
    {
      "metadata": {
        "_uuid": "dfdcf8f948fc82a50cffd87311224ece807a6cb7",
        "_cell_guid": "4be21f99-1bb9-4d65-b278-e49a6788d92b",
        "trusted": false,
        "collapsed": true
      },
      "cell_type": "code",
      "source": "sns.countplot(x=order_products_train_df['reordered'],data=order_products_train_df)",
      "execution_count": null,
      "outputs": []
    },
    {
      "metadata": {
        "_uuid": "75a77a10bd538698f9a4af8799c9908f8cfdf02a",
        "_cell_guid": "897381d4-86a7-45e4-9606-bd199982672c",
        "trusted": false,
        "collapsed": true
      },
      "cell_type": "code",
      "source": " #Reordered % in prior set\n# 59% customers in training set reordered\nlen(order_products_prior_df[order_products_prior_df['reordered']==1])/len(order_products_prior_df)",
      "execution_count": null,
      "outputs": []
    },
    {
      "metadata": {
        "_uuid": "d880dffca6f937a2c75a62c6be0d591cf9d7d089",
        "_cell_guid": "adc30b0f-ba97-4941-92f7-af538e870206",
        "trusted": false,
        "collapsed": true
      },
      "cell_type": "code",
      "source": "grouped_df = order_products_prior_df.groupby(\"order_id\")[\"reordered\"].aggregate(\"sum\").reset_index()\ngrouped_df",
      "execution_count": null,
      "outputs": []
    },
    {
      "metadata": {
        "_uuid": "9ae5fa6f7ad5034398fa806e47b6cd22c0b318f0",
        "_cell_guid": "668835ac-514b-422c-adea-3b8400207800",
        "trusted": false,
        "collapsed": true
      },
      "cell_type": "code",
      "source": "#About 12% of the orders in prior set has no re-ordered items while in the train set it is 6.5%.\n\n\nlen(grouped_df[grouped_df['reordered']==0])/len(grouped_df)",
      "execution_count": null,
      "outputs": []
    },
    {
      "metadata": {
        "scrolled": true,
        "_cell_guid": "a0bca098-e13a-42ff-aee7-c1988868ea37",
        "_uuid": "b6db990e57db6b0577ca3d55b33fe130a8793184",
        "trusted": false,
        "collapsed": true
      },
      "cell_type": "code",
      "source": "#Now let us see the number of products bought in each order.\norder_products_train_df.head(30)",
      "execution_count": null,
      "outputs": []
    },
    {
      "metadata": {
        "_uuid": "69a8dfe36872c5dbcf35e12ed360b4f97a86eae4",
        "_cell_guid": "5e96b078-f65d-49dc-9d96-37dc6a3abde8",
        "trusted": false,
        "collapsed": true
      },
      "cell_type": "code",
      "source": "cnt_srs=order_products_train_df.groupby('order_id')['add_to_cart_order'].agg(np.max).value_counts()\ncnt_srs\n#value_counts()",
      "execution_count": null,
      "outputs": []
    },
    {
      "metadata": {
        "scrolled": true,
        "_cell_guid": "2cf6969f-0cf0-402d-b26d-f7d87636153d",
        "_uuid": "a278314901ed9da57ca54bd82b06e6042da3da9c",
        "trusted": false,
        "collapsed": true
      },
      "cell_type": "code",
      "source": "plt.figure(figsize=(20,12))\nsns.barplot(cnt_srs.index,cnt_srs.values)",
      "execution_count": null,
      "outputs": []
    },
    {
      "metadata": {
        "_uuid": "6dd7799d45e76e7e64c50d61099496912990e577",
        "_cell_guid": "b2c7d3fb-6a20-432c-ab26-5635ceab603e",
        "trusted": false,
        "collapsed": true
      },
      "cell_type": "code",
      "source": "#Before we explore the product details, let us look at the other three files as well.\norder_products_prior_df.head(2)\n",
      "execution_count": null,
      "outputs": []
    },
    {
      "metadata": {
        "scrolled": false,
        "_cell_guid": "f08e46c7-4df6-4c4a-a00e-571172401b66",
        "_uuid": "77134b49e377618b62c8085d910aeaa55d43355c",
        "trusted": false,
        "collapsed": true
      },
      "cell_type": "code",
      "source": "products_df.head()",
      "execution_count": null,
      "outputs": []
    },
    {
      "metadata": {
        "_uuid": "c22f2bd6b6023cdc277e877a160fd2591a909261",
        "_cell_guid": "8aa8b592-9e80-4ca1-8d8a-61d0c360a01a",
        "trusted": false,
        "collapsed": true
      },
      "cell_type": "code",
      "source": "order_products_prior_df_1=pd.merge(order_products_prior_df,products_df, on ='product_id',how='left')\norder_products_prior_df_1",
      "execution_count": null,
      "outputs": []
    },
    {
      "metadata": {
        "scrolled": true,
        "_cell_guid": "0533ae67-b082-412a-b638-75de7fd60a17",
        "_uuid": "5ebba719842009846256fe76abd3ea02cfdbaf7e",
        "trusted": false,
        "collapsed": true
      },
      "cell_type": "code",
      "source": "aisles_df.head()",
      "execution_count": null,
      "outputs": []
    },
    {
      "metadata": {
        "_uuid": "aba76b5b90744ff0b35d8801bffdeec43040a796",
        "_cell_guid": "e7dd6138-067d-445e-9e0d-e57b1921fef2",
        "collapsed": true,
        "trusted": false
      },
      "cell_type": "code",
      "source": "order_products_prior_df_1=pd.merge(order_products_prior_df_1,aisles_df, on ='aisle_id',how='left')",
      "execution_count": null,
      "outputs": []
    },
    {
      "metadata": {
        "_uuid": "4559eaab762759b22224924fe240efa967a56392",
        "_cell_guid": "cb345202-7fd1-4399-adc4-5cbaa7fbb693",
        "trusted": false,
        "collapsed": true
      },
      "cell_type": "code",
      "source": "order_products_prior_df_1.head()",
      "execution_count": null,
      "outputs": []
    },
    {
      "metadata": {
        "_uuid": "8a98e475372793974619106405712fef34bb3547",
        "_cell_guid": "c9f500c5-38f8-450e-901e-91052f002a2f",
        "trusted": false,
        "collapsed": true
      },
      "cell_type": "code",
      "source": "departments_df.head()",
      "execution_count": null,
      "outputs": []
    },
    {
      "metadata": {
        "_uuid": "2dad66013b0a6af08e9867fb11bfc9f0a5b797e3",
        "_cell_guid": "104378b4-254a-4d03-a87a-405a0737cdb8",
        "collapsed": true,
        "trusted": false
      },
      "cell_type": "code",
      "source": "order_products_prior_df_1=pd.merge(order_products_prior_df_1,departments_df, on ='department_id',how='left')",
      "execution_count": null,
      "outputs": []
    },
    {
      "metadata": {
        "_uuid": "df22dfb4ac8416cf7d4704892ed25a8a9e479345",
        "_cell_guid": "519bdd7e-87a3-45e7-8362-ca4cb4d6c2da",
        "trusted": false,
        "collapsed": true
      },
      "cell_type": "code",
      "source": "order_products_prior_df_1.head()",
      "execution_count": null,
      "outputs": []
    },
    {
      "metadata": {
        "_uuid": "f3823a2322439de1666089ed5dc67c44b18be0cc",
        "_cell_guid": "a01ad5a6-030b-4cb9-8be0-ee497e5ede2b",
        "collapsed": true,
        "trusted": false
      },
      "cell_type": "code",
      "source": "# Lets count top 10 products ordered",
      "execution_count": null,
      "outputs": []
    },
    {
      "metadata": {
        "_uuid": "569a8f51cfc4a95611d5affea2f0a18203ca9cf9",
        "_cell_guid": "29dd6afa-22ec-4cc1-bb9a-59a09f529f30",
        "trusted": false,
        "collapsed": true
      },
      "cell_type": "code",
      "source": "cnt_srs=order_products_prior_df_1['product_name'].value_counts().head(10)\ncnt_srs",
      "execution_count": null,
      "outputs": []
    },
    {
      "metadata": {
        "_uuid": "80662751ff74356a4e7402cc43c5c3dcef0fb51d",
        "_cell_guid": "dbbf1542-5377-491c-9390-47f63a7f42b2",
        "trusted": false,
        "collapsed": true
      },
      "cell_type": "code",
      "source": "plt.figure(figsize=(20,12))\nsns.barplot(cnt_srs.index,cnt_srs.values)",
      "execution_count": null,
      "outputs": []
    },
    {
      "metadata": {
        "_uuid": "0191c006d5dc35251c72bc1f463f04f9183f3278",
        "_cell_guid": "c35b6eea-e2a2-4ff4-abe8-4ed81a2d0c3a",
        "collapsed": true,
        "trusted": false
      },
      "cell_type": "code",
      "source": "# wow, most of them are fruits and most of them are organic products",
      "execution_count": null,
      "outputs": []
    },
    {
      "metadata": {
        "_uuid": "cdc872bbd0f430b161df2bd680baabf874864b61",
        "_cell_guid": "db8c05e9-934c-48ca-a1c6-e23e622ed427",
        "collapsed": true,
        "trusted": false
      },
      "cell_type": "code",
      "source": "#Now let us look at the important aisles.",
      "execution_count": null,
      "outputs": []
    },
    {
      "metadata": {
        "_uuid": "7fde49116dba89390d4a51b45d5e1f03408310b0",
        "_cell_guid": "720ccc57-cfaf-425e-a1cb-9566af708eb6",
        "trusted": false,
        "collapsed": true
      },
      "cell_type": "code",
      "source": "cnt_srs1=order_products_prior_df_1['aisle'].value_counts().head(20)\ncnt_srs1",
      "execution_count": null,
      "outputs": []
    },
    {
      "metadata": {
        "_uuid": "4aa3485465d02c8351369da2fed45bf288bca4eb",
        "_cell_guid": "b4683758-debf-49bd-b352-3cdd498e1432",
        "trusted": false,
        "collapsed": true
      },
      "cell_type": "code",
      "source": "plt.figure(figsize=(20,12))\nsns.barplot(cnt_srs1.index, cnt_srs1.values)\nplt.ylabel('Number of Occurrences', fontsize=12)\nplt.xlabel('Aisle', fontsize=12)\nplt.xticks(rotation='vertical')\nplt.show()",
      "execution_count": null,
      "outputs": []
    },
    {
      "metadata": {
        "_uuid": "dfe6572230dc2e02899e81e33b48467047c103fc",
        "_cell_guid": "48972903-e44d-4acd-a190-fd12abd5c4b9",
        "collapsed": true
      },
      "cell_type": "markdown",
      "source": "The top two aisles are fresh fruits and fresh vegetables.!\n\nDepartment Distribution:\n\nLet us now check the department wise distribution."
    },
    {
      "metadata": {
        "_uuid": "41ad73b72ab34d6b1e0341454f03afe280c5f7aa",
        "_cell_guid": "22e7cfc0-36b9-45b9-9821-00c274a831c4",
        "trusted": false,
        "collapsed": true
      },
      "cell_type": "code",
      "source": "order_products_prior_df_1.head()",
      "execution_count": null,
      "outputs": []
    },
    {
      "metadata": {
        "_uuid": "e5d951df9f1599ad5c939d2f261e0514424aad1c",
        "_cell_guid": "dd7c3aed-7ff4-4fe6-84eb-6149b4eaba07",
        "trusted": false,
        "collapsed": true
      },
      "cell_type": "code",
      "source": "depatment_order= order_products_prior_df_1.groupby('department_id')['product_id'].agg('count').reset_index()\ndepatment_order",
      "execution_count": null,
      "outputs": []
    },
    {
      "metadata": {
        "_uuid": "afbb664417295de5b41dd6cedead1cdf7df14aa1",
        "_cell_guid": "2c19f1a4-455a-4051-8976-9a76103471ac",
        "trusted": false,
        "collapsed": true
      },
      "cell_type": "code",
      "source": "plt.figure(figsize=(20,12))\nsns.barplot(depatment_order.department_id, depatment_order.product_id)\nplt.ylabel('Number of Occurrences', fontsize=12)\nplt.xlabel('Aisle', fontsize=12)\nplt.xticks(rotation='vertical')\nplt.show()",
      "execution_count": null,
      "outputs": []
    },
    {
      "metadata": {
        "_uuid": "466e3eed48b5ff2ce6e5999729951824db051a17",
        "_cell_guid": "5ba0c8ff-796f-45ce-963f-f3050e906da4",
        "trusted": false,
        "collapsed": true
      },
      "cell_type": "code",
      "source": "count_department= order_products_prior_df_1['department_id'].value_counts().reset_index()\ncount_department",
      "execution_count": null,
      "outputs": []
    },
    {
      "metadata": {
        "_uuid": "d10d85ac062ad9c96dfdcef347fb57b6afd815e8",
        "_cell_guid": "8bc940a2-a67d-4d08-bf19-dcbed84189bf",
        "trusted": false,
        "collapsed": true
      },
      "cell_type": "code",
      "source": "labels= np.array(count_department.index)\nlabels",
      "execution_count": null,
      "outputs": []
    },
    {
      "metadata": {
        "_uuid": "7bb9ae799f8af5d59118e3572ab28ca154e39f0f",
        "_cell_guid": "ae5f293a-da30-422c-995a-5130369dc35d",
        "collapsed": true,
        "trusted": false
      },
      "cell_type": "code",
      "source": "values= np.array(count_department.department_id/count_department.department_id.sum()*100)",
      "execution_count": null,
      "outputs": []
    },
    {
      "metadata": {
        "_uuid": "105604b6a588cb3bcf73aafeb262630c8d9565c5",
        "_cell_guid": "6f1f759d-d8db-48f2-b70c-c53a61407bea",
        "trusted": false,
        "collapsed": true
      },
      "cell_type": "code",
      "source": "plt.figure(figsize=(10,10))\nplt.pie(values, labels=labels, \n        autopct='%1.1f%%', startangle=200)\nplt.title(\"Departments distribution\", fontsize=15)\nplt.show()\n\n",
      "execution_count": null,
      "outputs": []
    },
    {
      "metadata": {
        "_uuid": "ea3053c6577eb60f3c0654434cf38acbfe547975",
        "_cell_guid": "feb0ec48-d54a-48c8-bb41-71052646b374",
        "collapsed": true
      },
      "cell_type": "markdown",
      "source": " Now let us check the reordered percentage of each department.\n\nDepartment wise reorder:"
    },
    {
      "metadata": {
        "_uuid": "98e21df5bfb1d4b51c34b577487195e45413ff8e",
        "_cell_guid": "bbb1769e-b7da-445e-b43b-6ae280e441f0",
        "trusted": false,
        "collapsed": true
      },
      "cell_type": "code",
      "source": "order_products_prior_df_1.head()",
      "execution_count": null,
      "outputs": []
    },
    {
      "metadata": {
        "_uuid": "62db1fdcb0b1348fe00a0cc7689ee0b400fcf96f",
        "_cell_guid": "974e8a59-dcc2-4175-9d68-be2c02ad95b5",
        "trusted": false,
        "collapsed": true
      },
      "cell_type": "code",
      "source": "cnt_srs=order_products_prior_df_1.groupby(\"department_id\")['reordered'].agg('count').reset_index()\ncnt_srs",
      "execution_count": null,
      "outputs": []
    },
    {
      "metadata": {
        "_uuid": "23c09f2b91d168db3b842396d2bd16ff09bbc774",
        "_cell_guid": "a9632bcf-d8ae-4c2a-b23b-92e0347e96a9",
        "trusted": false,
        "collapsed": true
      },
      "cell_type": "code",
      "source": "sns.barplot(cnt_srs.department_id,cnt_srs.reordered)",
      "execution_count": null,
      "outputs": []
    },
    {
      "metadata": {
        "_uuid": "d0d1dc593395e07a4f7f7e8c665f486d0bc61c12",
        "_cell_guid": "a9cbb69b-fd7b-4163-a165-20b0eb6e100f",
        "collapsed": true
      },
      "cell_type": "markdown",
      "source": "Department wise reorder ratio"
    },
    {
      "metadata": {
        "_uuid": "3abe0ca060965b15cfb4dc741c14c437ded47cf2",
        "_cell_guid": "408b721f-daa5-42c0-875b-bf8946b71e9e",
        "trusted": false,
        "collapsed": true
      },
      "cell_type": "code",
      "source": "cnt_srs_ratio=order_products_prior_df_1.groupby(\"department_id\")['reordered'].agg('mean').reset_index()\ncnt_srs_ratio",
      "execution_count": null,
      "outputs": []
    },
    {
      "metadata": {
        "_uuid": "60101b2c75352efe195dea2cbd0db797bcf27e0d",
        "_cell_guid": "44d8b2d5-d81f-440c-bf80-47a555ea9ec7",
        "trusted": false,
        "collapsed": true
      },
      "cell_type": "code",
      "source": "sns.pointplot(cnt_srs_ratio.department_id,cnt_srs_ratio.reordered)",
      "execution_count": null,
      "outputs": []
    },
    {
      "metadata": {
        "_uuid": "a27ab72e5a2599b8178c30b64a557d97a697bca7",
        "_cell_guid": "72a5dd09-1656-40c8-a1c8-75cc6a62c9d9",
        "collapsed": true
      },
      "cell_type": "markdown",
      "source": "Personal care has lowest reorder ratio and dairy eggs have highest reorder ratio.\n\nAisle - Reorder ratio:"
    },
    {
      "metadata": {
        "_uuid": "5ca23e05d723ffe3bd0f77c08d9afe0e5226c71e",
        "_cell_guid": "9aa23579-6010-4dfa-aac8-f352bf317eb5",
        "trusted": false,
        "collapsed": true
      },
      "cell_type": "code",
      "source": "cnt_srs_ratio_aisle=order_products_prior_df_1.groupby(\"aisle\")['reordered'].agg('mean').reset_index()\ncnt_srs_ratio_aisle",
      "execution_count": null,
      "outputs": []
    },
    {
      "metadata": {
        "_uuid": "b75316122845aa4bbbab52a15a8436640448206d",
        "_cell_guid": "4a8eb903-d637-472b-bc23-391cf13c50c1",
        "trusted": false,
        "collapsed": true
      },
      "cell_type": "code",
      "source": "plt.figure(figsize=(20,12))\nsns.pointplot(cnt_srs_ratio_aisle.aisle,cnt_srs_ratio_aisle.reordered)\nplt.xticks(rotation='vertical')\nplt.show()",
      "execution_count": null,
      "outputs": []
    },
    {
      "metadata": {
        "_uuid": "0cc7b705440771f9696a684efed7bb98ba435bef",
        "_cell_guid": "69b35073-e18a-487a-b412-da17b474c402",
        "collapsed": true
      },
      "cell_type": "markdown",
      "source": "#Add to Cart - Reorder ratio:\n\nLet us now explore the relationship between how order of adding the product to the cart affects the reorder ratio."
    },
    {
      "metadata": {
        "_uuid": "8c2e33fee183ee8625407c8f300ed14759be33b6",
        "_cell_guid": "2271bd97-c837-4ff3-b769-9948a50aedcf",
        "trusted": false,
        "collapsed": true
      },
      "cell_type": "code",
      "source": "order_products_prior_df_1.head()",
      "execution_count": null,
      "outputs": []
    },
    {
      "metadata": {
        "_uuid": "0d57145ee67736abe2dc623c26478bb383821aab",
        "_cell_guid": "93a7991f-e252-4813-9374-f4da7f4a4d40",
        "trusted": false,
        "collapsed": true
      },
      "cell_type": "code",
      "source": "cnt_srs_ratio_add_to_cart=order_products_prior_df_1.groupby(\"add_to_cart_order\")['reordered'].agg('mean').reset_index()\ncnt_srs_ratio_add_to_cart",
      "execution_count": null,
      "outputs": []
    },
    {
      "metadata": {
        "_uuid": "0d1917c5d8d59c5b7b51709ca48783ca4e89a810",
        "_cell_guid": "86105451-1a76-446f-b94c-262891ca8a0c",
        "trusted": false,
        "collapsed": true
      },
      "cell_type": "code",
      "source": "plt.figure(figsize=(20,12))\n\n\nsns.pointplot(cnt_srs_ratio_add_to_cart.add_to_cart_order,cnt_srs_ratio_add_to_cart.reordered)\nplt.xticks(rotation='vertical')\nplt.show()",
      "execution_count": null,
      "outputs": []
    },
    {
      "metadata": {
        "_uuid": "54b1bc03792ccde56003330bb92a5125c2e73415",
        "_cell_guid": "7c1bf14f-655d-49a9-bae2-b41fb5eac9bd",
        "collapsed": true
      },
      "cell_type": "markdown",
      "source": "Looks like the products that are added to the cart initially are more likely to be reordered again compared to the ones added later. This makes sense to me as well since we tend to first order all the products we used to buy frequently and then look out for the new products available."
    },
    {
      "metadata": {
        "_uuid": "59fb4d5921f67fb05fcd7e83b6ee9f9bc98c30ae",
        "_cell_guid": "87b4ea20-b360-441c-8aaf-d4b16257eff0",
        "collapsed": true
      },
      "cell_type": "markdown",
      "source": "Reorder ratio by Time based variables:"
    },
    {
      "metadata": {
        "_uuid": "c6d43935e0d7d04a6a734c54b1fda2a10a1c2938",
        "_cell_guid": "53753110-a367-4692-8f54-837b669d78ff",
        "trusted": false,
        "collapsed": true
      },
      "cell_type": "code",
      "source": "order_products_prior_df.head()",
      "execution_count": null,
      "outputs": []
    },
    {
      "metadata": {
        "_uuid": "f96226f2799ac938bf7409a532c1a2808e3e59a7",
        "_cell_guid": "8e8043ea-4457-46b8-98fd-941bcbfe74c7",
        "trusted": false,
        "collapsed": true
      },
      "cell_type": "code",
      "source": "orders_df.head()",
      "execution_count": null,
      "outputs": []
    },
    {
      "metadata": {
        "_uuid": "f831e753479cc4a419b54f40bcd9393aba53bd96",
        "_cell_guid": "2468a4d3-f1b4-4e8c-abcb-bf12b805ace1",
        "collapsed": true,
        "trusted": false
      },
      "cell_type": "code",
      "source": "plt.figure(figsize=(20,12))\nsns.barplot(depatment_order.department_id, depatment_order.product_id)\nplt.ylabel('Number of Occurrences', fontsize=12)\nplt.xlabel('Aisle', fontsize=12)\nplt.xticks(rotation='vertical')\nplt.show()",
      "execution_count": null,
      "outputs": []
    },
    {
      "metadata": {
        "_uuid": "96882b8ee5d0ac52c9678e15152b5e98c1638ba2",
        "_cell_guid": "9344931c-d7cf-4129-a3f2-848070d6b8c8",
        "collapsed": true,
        "trusted": false
      },
      "cell_type": "code",
      "source": "",
      "execution_count": null,
      "outputs": []
    },
    {
      "metadata": {
        "_uuid": "568b018426ffc8dbc7b578d4c78cde348ab060c1",
        "_cell_guid": "4c2e7c41-487e-4086-a7c3-29c81467a764",
        "collapsed": true,
        "trusted": false
      },
      "cell_type": "code",
      "source": "",
      "execution_count": null,
      "outputs": []
    }
  ],
  "metadata": {
    "kernelspec": {
      "display_name": "Python 3",
      "language": "python",
      "name": "python3"
    },
    "language_info": {
      "name": "python",
      "version": "3.6.5",
      "mimetype": "text/x-python",
      "codemirror_mode": {
        "name": "ipython",
        "version": 3
      },
      "pygments_lexer": "ipython3",
      "nbconvert_exporter": "python",
      "file_extension": ".py"
    }
  },
  "nbformat": 4,
  "nbformat_minor": 1
}